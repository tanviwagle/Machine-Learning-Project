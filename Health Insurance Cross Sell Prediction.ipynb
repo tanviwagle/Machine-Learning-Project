{
 "cells": [
  {
   "cell_type": "markdown",
   "metadata": {
    "id": "5-Kegrgq0o4H"
   },
   "source": [
    "# Health Insurance Cross Sell Prediction"
   ]
  },
  {
   "cell_type": "markdown",
   "metadata": {
    "id": "_YnhxHTk0o4K"
   },
   "source": [
    "Our client is an Insurance company that has provided Health Insurance to its customers now they need your help in building a model to predict whether the policyholders (customers) from past year will also be interested in Vehicle Insurance provided by the company.\n",
    "\n",
    "An insurance policy is an arrangement by which a company undertakes to provide a guarantee of compensation for specified loss, damage, illness, or death in return for the payment of a specified premium. A premium is a sum of money that the customer needs to pay regularly to an insurance company for this guarantee.\n",
    "\n",
    "For example, you may pay a premium of Rs. 5000 each year for a health insurance cover of Rs. 200,000/- so that if, God forbid, you fall ill and need to be hospitalised in that year, the insurance provider company will bear the cost of hospitalisation etc. for upto Rs. 200,000. Now if you are wondering how can company bear such high hospitalisation cost when it charges a premium of only Rs. 5000/-, that is where the concept of probabilities comes in picture. For example, like you, there may be 100 customers who would be paying a premium of Rs. 5000 every year, but only a few of them (say 2-3) would get hospitalised that year and not everyone. This way everyone shares the risk of everyone else.\n",
    "\n",
    "Just like medical insurance, there is vehicle insurance where every year customer needs to pay a premium of certain amount to insurance provider company so that in case of unfortunate accident by the vehicle, the insurance provider company will provide a compensation (called ‘sum assured’) to the customer.\n",
    "\n",
    "Building a model to predict whether a customer would be interested in Vehicle Insurance is extremely helpful for the company because it can then accordingly plan its communication strategy to reach out to those customers and optimise its business model and revenue.\n",
    "\n",
    "Now, in order to predict, whether the customer would be interested in Vehicle insurance, you have information about demographics (gender, age, region code type), Vehicles (Vehicle Age, Damage), Policy (Premium, sourcing channel) etc."
   ]
  },
  {
   "cell_type": "markdown",
   "metadata": {
    "id": "iiDOoASF0o4L"
   },
   "source": [
    "<b>Column Description:</b> <br><br>\n",
    "id = Unique ID for the customer <br/>\n",
    "Gender = Gender of the customer<br />\n",
    "Age = Age of the customer <br />\n",
    "Driving_License = 0 : Customer does not have DL, 1 : Customer already has DL <br/>\n",
    "Region_Code = Unique code for the region of the customer<br/>\n",
    "Previously_Insured = 1 : Customer already has Vehicle Insurance, 0 : Customer doesn't have Vehicle Insurance <br />\n",
    "Vehicle_Age = Age of the Vehicle <br/>\n",
    "Vehicle_Damage = 1 : Customer got his/her vehicle damaged in the past. 0 : Customer didn't get his/her vehicle damaged in the past. <br/>\n",
    "Annual_Premium = The amount customer needs to pay as premium in the year <br/>\n",
    "PolicySalesChannel = Anonymized Code for the channel of outreaching to the customer ie. Different Agents, Over Mail, Over Phone, In Person, etc. <br/>\n",
    "Vintage\t= Number of Days, Customer has been associated with the company <br/>\n",
    "Response = 1 : Customer is interested, 0 : Customer is not interested<br>"
   ]
  },
  {
   "cell_type": "markdown",
   "metadata": {
    "id": "Vj0lP_Zi0o4M"
   },
   "source": [
    "<b>Import packages</b>"
   ]
  },
  {
   "cell_type": "code",
   "execution_count": 1,
   "metadata": {
    "executionInfo": {
     "elapsed": 1114,
     "status": "ok",
     "timestamp": 1603731294220,
     "user": {
      "displayName": "tanvi wagle",
      "photoUrl": "",
      "userId": "06936310910246732638"
     },
     "user_tz": -330
    },
    "id": "jCVbdbo20o4O"
   },
   "outputs": [],
   "source": [
    "import pandas as pd\n",
    "import numpy as np\n",
    "import matplotlib.pyplot as plt\n",
    "import seaborn as sns"
   ]
  },
  {
   "cell_type": "code",
   "execution_count": 2,
   "metadata": {
    "executionInfo": {
     "elapsed": 2343,
     "status": "ok",
     "timestamp": 1603731295460,
     "user": {
      "displayName": "tanvi wagle",
      "photoUrl": "",
      "userId": "06936310910246732638"
     },
     "user_tz": -330
    },
    "id": "FuvPJ33o0o4Y"
   },
   "outputs": [],
   "source": [
    "from sklearn.utils import shuffle\n",
    "from sklearn.preprocessing import LabelEncoder\n",
    "from sklearn.linear_model import LinearRegression, Lasso, Ridge, LogisticRegression\n",
    "from sklearn.svm import SVC\n",
    "from sklearn.model_selection import train_test_split\n",
    "from sklearn.metrics import accuracy_score, precision_recall_fscore_support, mean_squared_error, roc_auc_score\n",
    "from sklearn.tree import DecisionTreeClassifier\n",
    "from sklearn.ensemble import BaggingClassifier, RandomForestClassifier"
   ]
  },
  {
   "cell_type": "code",
   "execution_count": 3,
   "metadata": {
    "executionInfo": {
     "elapsed": 2335,
     "status": "ok",
     "timestamp": 1603731295461,
     "user": {
      "displayName": "tanvi wagle",
      "photoUrl": "",
      "userId": "06936310910246732638"
     },
     "user_tz": -330
    },
    "id": "AnHQWoyR0o4p"
   },
   "outputs": [],
   "source": [
    "#Reading data\n",
    "train_data = pd.read_csv('train.csv')"
   ]
  },
  {
   "cell_type": "code",
   "execution_count": 4,
   "metadata": {
    "colab": {
     "base_uri": "https://localhost:8080/",
     "height": 215
    },
    "executionInfo": {
     "elapsed": 2278,
     "status": "ok",
     "timestamp": 1603731295464,
     "user": {
      "displayName": "tanvi wagle",
      "photoUrl": "",
      "userId": "06936310910246732638"
     },
     "user_tz": -330
    },
    "id": "cyAEi8940o44",
    "outputId": "9fe5a17f-9aca-495a-bc77-50d979a519f2"
   },
   "outputs": [
    {
     "data": {
      "text/html": [
       "<div>\n",
       "<style scoped>\n",
       "    .dataframe tbody tr th:only-of-type {\n",
       "        vertical-align: middle;\n",
       "    }\n",
       "\n",
       "    .dataframe tbody tr th {\n",
       "        vertical-align: top;\n",
       "    }\n",
       "\n",
       "    .dataframe thead th {\n",
       "        text-align: right;\n",
       "    }\n",
       "</style>\n",
       "<table border=\"1\" class=\"dataframe\">\n",
       "  <thead>\n",
       "    <tr style=\"text-align: right;\">\n",
       "      <th></th>\n",
       "      <th>id</th>\n",
       "      <th>Gender</th>\n",
       "      <th>Age</th>\n",
       "      <th>Driving_License</th>\n",
       "      <th>Region_Code</th>\n",
       "      <th>Previously_Insured</th>\n",
       "      <th>Vehicle_Age</th>\n",
       "      <th>Vehicle_Damage</th>\n",
       "      <th>Annual_Premium</th>\n",
       "      <th>Policy_Sales_Channel</th>\n",
       "      <th>Vintage</th>\n",
       "      <th>Response</th>\n",
       "    </tr>\n",
       "  </thead>\n",
       "  <tbody>\n",
       "    <tr>\n",
       "      <th>0</th>\n",
       "      <td>1</td>\n",
       "      <td>Male</td>\n",
       "      <td>44</td>\n",
       "      <td>1</td>\n",
       "      <td>28.0</td>\n",
       "      <td>0</td>\n",
       "      <td>&gt; 2 Years</td>\n",
       "      <td>Yes</td>\n",
       "      <td>40454.0</td>\n",
       "      <td>26.0</td>\n",
       "      <td>217</td>\n",
       "      <td>1</td>\n",
       "    </tr>\n",
       "    <tr>\n",
       "      <th>1</th>\n",
       "      <td>2</td>\n",
       "      <td>Male</td>\n",
       "      <td>76</td>\n",
       "      <td>1</td>\n",
       "      <td>3.0</td>\n",
       "      <td>0</td>\n",
       "      <td>1-2 Year</td>\n",
       "      <td>No</td>\n",
       "      <td>33536.0</td>\n",
       "      <td>26.0</td>\n",
       "      <td>183</td>\n",
       "      <td>0</td>\n",
       "    </tr>\n",
       "    <tr>\n",
       "      <th>2</th>\n",
       "      <td>3</td>\n",
       "      <td>Male</td>\n",
       "      <td>47</td>\n",
       "      <td>1</td>\n",
       "      <td>28.0</td>\n",
       "      <td>0</td>\n",
       "      <td>&gt; 2 Years</td>\n",
       "      <td>Yes</td>\n",
       "      <td>38294.0</td>\n",
       "      <td>26.0</td>\n",
       "      <td>27</td>\n",
       "      <td>1</td>\n",
       "    </tr>\n",
       "    <tr>\n",
       "      <th>3</th>\n",
       "      <td>4</td>\n",
       "      <td>Male</td>\n",
       "      <td>21</td>\n",
       "      <td>1</td>\n",
       "      <td>11.0</td>\n",
       "      <td>1</td>\n",
       "      <td>&lt; 1 Year</td>\n",
       "      <td>No</td>\n",
       "      <td>28619.0</td>\n",
       "      <td>152.0</td>\n",
       "      <td>203</td>\n",
       "      <td>0</td>\n",
       "    </tr>\n",
       "    <tr>\n",
       "      <th>4</th>\n",
       "      <td>5</td>\n",
       "      <td>Female</td>\n",
       "      <td>29</td>\n",
       "      <td>1</td>\n",
       "      <td>41.0</td>\n",
       "      <td>1</td>\n",
       "      <td>&lt; 1 Year</td>\n",
       "      <td>No</td>\n",
       "      <td>27496.0</td>\n",
       "      <td>152.0</td>\n",
       "      <td>39</td>\n",
       "      <td>0</td>\n",
       "    </tr>\n",
       "  </tbody>\n",
       "</table>\n",
       "</div>"
      ],
      "text/plain": [
       "   id  Gender  Age  Driving_License  Region_Code  Previously_Insured  \\\n",
       "0   1    Male   44                1         28.0                   0   \n",
       "1   2    Male   76                1          3.0                   0   \n",
       "2   3    Male   47                1         28.0                   0   \n",
       "3   4    Male   21                1         11.0                   1   \n",
       "4   5  Female   29                1         41.0                   1   \n",
       "\n",
       "  Vehicle_Age Vehicle_Damage  Annual_Premium  Policy_Sales_Channel  Vintage  \\\n",
       "0   > 2 Years            Yes         40454.0                  26.0      217   \n",
       "1    1-2 Year             No         33536.0                  26.0      183   \n",
       "2   > 2 Years            Yes         38294.0                  26.0       27   \n",
       "3    < 1 Year             No         28619.0                 152.0      203   \n",
       "4    < 1 Year             No         27496.0                 152.0       39   \n",
       "\n",
       "   Response  \n",
       "0         1  \n",
       "1         0  \n",
       "2         1  \n",
       "3         0  \n",
       "4         0  "
      ]
     },
     "execution_count": 4,
     "metadata": {},
     "output_type": "execute_result"
    }
   ],
   "source": [
    "# View train data \n",
    "train_data.head()"
   ]
  },
  {
   "cell_type": "code",
   "execution_count": 5,
   "metadata": {
    "colab": {
     "base_uri": "https://localhost:8080/",
     "height": 336
    },
    "executionInfo": {
     "elapsed": 3140,
     "status": "ok",
     "timestamp": 1603731296336,
     "user": {
      "displayName": "tanvi wagle",
      "photoUrl": "",
      "userId": "06936310910246732638"
     },
     "user_tz": -330
    },
    "id": "3RUT1DM10o5E",
    "outputId": "7ab97ebb-d466-4a71-8d9c-6c1b0fe9fd01"
   },
   "outputs": [
    {
     "name": "stdout",
     "output_type": "stream",
     "text": [
      "<class 'pandas.core.frame.DataFrame'>\n",
      "RangeIndex: 381109 entries, 0 to 381108\n",
      "Data columns (total 12 columns):\n",
      "id                      381109 non-null int64\n",
      "Gender                  381109 non-null object\n",
      "Age                     381109 non-null int64\n",
      "Driving_License         381109 non-null int64\n",
      "Region_Code             381109 non-null float64\n",
      "Previously_Insured      381109 non-null int64\n",
      "Vehicle_Age             381109 non-null object\n",
      "Vehicle_Damage          381109 non-null object\n",
      "Annual_Premium          381109 non-null float64\n",
      "Policy_Sales_Channel    381109 non-null float64\n",
      "Vintage                 381109 non-null int64\n",
      "Response                381109 non-null int64\n",
      "dtypes: float64(3), int64(6), object(3)\n",
      "memory usage: 34.9+ MB\n"
     ]
    }
   ],
   "source": [
    "# Check if there are any null values or not\n",
    "train_data.info()"
   ]
  },
  {
   "cell_type": "markdown",
   "metadata": {
    "id": "miol2i610o5M"
   },
   "source": [
    "Inference: There are 381109 rows and 12 columns. There are no null values in the train dataset"
   ]
  },
  {
   "cell_type": "code",
   "execution_count": 6,
   "metadata": {
    "colab": {
     "base_uri": "https://localhost:8080/",
     "height": 218
    },
    "executionInfo": {
     "elapsed": 3120,
     "status": "ok",
     "timestamp": 1603731296337,
     "user": {
      "displayName": "tanvi wagle",
      "photoUrl": "",
      "userId": "06936310910246732638"
     },
     "user_tz": -330
    },
    "id": "iJwydZ6c0o5O",
    "outputId": "22aa1181-14b6-42f4-ced5-1f442d344580"
   },
   "outputs": [
    {
     "name": "stdout",
     "output_type": "stream",
     "text": [
      "id :  381109\n",
      "Gender :  2\n",
      "Age :  66\n",
      "Driving_License :  2\n",
      "Region_Code :  53\n",
      "Previously_Insured :  2\n",
      "Vehicle_Age :  3\n",
      "Vehicle_Damage :  2\n",
      "Annual_Premium :  48838\n",
      "Policy_Sales_Channel :  155\n",
      "Vintage :  290\n",
      "Response :  2\n"
     ]
    }
   ],
   "source": [
    "# unique values\n",
    "for i in train_data.columns:\n",
    "    print(i,\": \",train_data[i].nunique())"
   ]
  },
  {
   "cell_type": "markdown",
   "metadata": {
    "id": "YAAvdqRY0o5V"
   },
   "source": [
    "# EDA"
   ]
  },
  {
   "cell_type": "markdown",
   "metadata": {
    "id": "aiSvwWp50o5X"
   },
   "source": [
    "<b>Age group that has maximum previously purchased vehicle insurance</b>"
   ]
  },
  {
   "cell_type": "code",
   "execution_count": 7,
   "metadata": {
    "colab": {
     "base_uri": "https://localhost:8080/",
     "height": 350
    },
    "executionInfo": {
     "elapsed": 3111,
     "status": "ok",
     "timestamp": 1603731296338,
     "user": {
      "displayName": "tanvi wagle",
      "photoUrl": "",
      "userId": "06936310910246732638"
     },
     "user_tz": -330
    },
    "id": "XbGQydBd0o5Z",
    "outputId": "af55169e-d5a3-45e4-fa5a-692ba695a267"
   },
   "outputs": [
    {
     "data": {
      "text/plain": [
       "<matplotlib.axes._subplots.AxesSubplot at 0x22869fee0b8>"
      ]
     },
     "execution_count": 7,
     "metadata": {},
     "output_type": "execute_result"
    },
    {
     "data": {
      "image/png": "[encoded data removed]",
      "text/plain": [
       "<Figure size 432x288 with 1 Axes>"
      ]
     },
     "metadata": {
      "needs_background": "light"
     },
     "output_type": "display_data"
    }
   ],
   "source": [
    "sns.distplot(train_data[train_data['Previously_Insured'] == 1]['Age'], kde = False, bins = 35, color = 'red')"
   ]
  },
  {
   "cell_type": "markdown",
   "metadata": {
    "id": "14gfClpf0o5f"
   },
   "source": [
    "<b>Inference: </b>Age group 22-26 has maximum amount of previous purchased vehicle insurance"
   ]
  },
  {
   "cell_type": "markdown",
   "metadata": {
    "id": "DkOtNTir0o5f"
   },
   "source": [
    "<b>Age of vehicle where it is damaged maximum and least</b>\n"
   ]
  },
  {
   "cell_type": "code",
   "execution_count": 8,
   "metadata": {
    "colab": {
     "base_uri": "https://localhost:8080/",
     "height": 297
    },
    "executionInfo": {
     "elapsed": 3470,
     "status": "ok",
     "timestamp": 1603731296715,
     "user": {
      "displayName": "tanvi wagle",
      "photoUrl": "",
      "userId": "06936310910246732638"
     },
     "user_tz": -330
    },
    "id": "ZkeON0kA0o5g",
    "outputId": "43b57c3d-42be-4c3d-ee40-2e1e40423bd3"
   },
   "outputs": [
    {
     "data": {
      "text/plain": [
       "<matplotlib.axes._subplots.AxesSubplot at 0x2286f5bf9b0>"
      ]
     },
     "execution_count": 8,
     "metadata": {},
     "output_type": "execute_result"
    },
    {
     "data": {
      "image/png": "[encoded data removed]",
      "text/plain": [
       "<Figure size 432x288 with 1 Axes>"
      ]
     },
     "metadata": {
      "needs_background": "light"
     },
     "output_type": "display_data"
    }
   ],
   "source": [
    "sns.countplot(x = 'Vehicle_Age', data = train_data, hue = \"Vehicle_Damage\")"
   ]
  },
  {
   "cell_type": "markdown",
   "metadata": {
    "id": "u4y3vMQG0o5s"
   },
   "source": [
    "<b>Inference:</b> More than 1.2 Lakh of vehicle are damaged in 1-2 years (Maximum) and around 18,000 vehicles are damaged when age is more than 2 years (Least). <br />\n",
    "Around 1.1 Lakh of vehicles are not damaged when the age of vehicle is less than 1 year."
   ]
  },
  {
   "cell_type": "markdown",
   "metadata": {
    "id": "N21E2vXc0o5t"
   },
   "source": [
    "<b>Customer age group with most vehicle damage</b>"
   ]
  },
  {
   "cell_type": "code",
   "execution_count": 9,
   "metadata": {
    "colab": {
     "base_uri": "https://localhost:8080/",
     "height": 350
    },
    "executionInfo": {
     "elapsed": 4807,
     "status": "ok",
     "timestamp": 1603731298068,
     "user": {
      "displayName": "tanvi wagle",
      "photoUrl": "",
      "userId": "06936310910246732638"
     },
     "user_tz": -330
    },
    "id": "F5HBBMKS0o5u",
    "outputId": "c6b5fdda-690c-4fd2-e407-bbc344d2e076"
   },
   "outputs": [
    {
     "data": {
      "text/plain": [
       "<matplotlib.axes._subplots.AxesSubplot at 0x2286f953e80>"
      ]
     },
     "execution_count": 9,
     "metadata": {},
     "output_type": "execute_result"
    },
    {
     "data": {
      "image/png": "[encoded data removed]",
      "text/plain": [
       "<Figure size 432x288 with 1 Axes>"
      ]
     },
     "metadata": {
      "needs_background": "light"
     },
     "output_type": "display_data"
    }
   ],
   "source": [
    "sns.distplot(train_data[train_data['Vehicle_Damage'] == 'Yes']['Age'], bins = 25)"
   ]
  },
  {
   "cell_type": "markdown",
   "metadata": {
    "id": "pnuApRgu0o55"
   },
   "source": [
    "<b>Inference:</b> Age group 20-25 and 45-48 have most damaged vehicles"
   ]
  },
  {
   "cell_type": "markdown",
   "metadata": {
    "id": "81NDUCB60o56"
   },
   "source": [
    "<b>Previously insured customers having vehicles of different age interested in buying new insurance or not</b>"
   ]
  },
  {
   "cell_type": "code",
   "execution_count": 10,
   "metadata": {
    "code_folding": [],
    "colab": {
     "base_uri": "https://localhost:8080/",
     "height": 312
    },
    "executionInfo": {
     "elapsed": 5995,
     "status": "ok",
     "timestamp": 1603731299279,
     "user": {
      "displayName": "tanvi wagle",
      "photoUrl": "",
      "userId": "06936310910246732638"
     },
     "user_tz": -330
    },
    "id": "ApmhmZxN0o57",
    "outputId": "dc8f9654-eac6-4696-8ca4-9c965ce9bd49"
   },
   "outputs": [
    {
     "data": {
      "image/png": "[encoded data removed]",
      "text/plain": [
       "<Figure size 487.684x288 with 2 Axes>"
      ]
     },
     "metadata": {
      "needs_background": "light"
     },
     "output_type": "display_data"
    }
   ],
   "source": [
    "sns.catplot(x = \"Previously_Insured\", hue = \"Vehicle_Age\", col = \"Response\", data = train_data, kind = \"count\", \n",
    "            height = 4, aspect = .7, palette = 'viridis');"
   ]
  },
  {
   "cell_type": "markdown",
   "metadata": {
    "id": "vA7PGxKx0o6K"
   },
   "source": [
    "Inference: There are more number of customers with 'NO' as response even if they have bought insurance before."
   ]
  },
  {
   "cell_type": "markdown",
   "metadata": {
    "id": "IhTb2om80o6M"
   },
   "source": [
    "<b>Customers of damaged vehicle that are previously insured would buy new insurance or not</b>"
   ]
  },
  {
   "cell_type": "code",
   "execution_count": 11,
   "metadata": {
    "colab": {
     "base_uri": "https://localhost:8080/",
     "height": 401
    },
    "executionInfo": {
     "elapsed": 7138,
     "status": "ok",
     "timestamp": 1603731300442,
     "user": {
      "displayName": "tanvi wagle",
      "photoUrl": "",
      "userId": "06936310910246732638"
     },
     "user_tz": -330
    },
    "id": "H55F1DAr0o6N",
    "outputId": "96676dfb-a5c8-4bdc-a628-a805c33b5510"
   },
   "outputs": [
    {
     "data": {
      "text/plain": [
       "<seaborn.axisgrid.FacetGrid at 0x2286f59a278>"
      ]
     },
     "execution_count": 11,
     "metadata": {},
     "output_type": "execute_result"
    },
    {
     "data": {
      "image/png": "[encoded data removed]",
      "text/plain": [
       "<Figure size 821.875x360 with 2 Axes>"
      ]
     },
     "metadata": {
      "needs_background": "light"
     },
     "output_type": "display_data"
    }
   ],
   "source": [
    "sns.catplot(x = 'Vehicle_Damage', col = 'Response', data = train_data, kind = 'count', hue = 'Previously_Insured', palette = 'magma')"
   ]
  },
  {
   "cell_type": "code",
   "execution_count": 12,
   "metadata": {
    "colab": {
     "base_uri": "https://localhost:8080/",
     "height": 34
    },
    "executionInfo": {
     "elapsed": 7111,
     "status": "ok",
     "timestamp": 1603731300445,
     "user": {
      "displayName": "tanvi wagle",
      "photoUrl": "",
      "userId": "06936310910246732638"
     },
     "user_tz": -330
    },
    "id": "_8ohlvuT0o6Y",
    "outputId": "d801330a-4050-430f-8c69-e195394c5e30"
   },
   "outputs": [
    {
     "data": {
      "text/plain": [
       "(86, 2)"
      ]
     },
     "execution_count": 12,
     "metadata": {},
     "output_type": "execute_result"
    }
   ],
   "source": [
    "veh = train_data[train_data['Previously_Insured'] == 1][['Vehicle_Damage', 'Response']]\n",
    "res = veh[veh['Vehicle_Damage'] == 'Yes']\n",
    "res[res['Response'] == 1].shape"
   ]
  },
  {
   "cell_type": "markdown",
   "metadata": {
    "id": "GJMr_Y0t0o6d"
   },
   "source": [
    "Inference: There are around 1.4 lakh customers that have damaged vehicle and have not bought insurance before and their response as 'NO'"
   ]
  },
  {
   "cell_type": "markdown",
   "metadata": {
    "id": "eEx-S-oy0o6f"
   },
   "source": [
    "<b>Number of positive and negative responses</b>"
   ]
  },
  {
   "cell_type": "code",
   "execution_count": 13,
   "metadata": {
    "colab": {
     "base_uri": "https://localhost:8080/",
     "height": 300
    },
    "executionInfo": {
     "elapsed": 7495,
     "status": "ok",
     "timestamp": 1603731300858,
     "user": {
      "displayName": "tanvi wagle",
      "photoUrl": "",
      "userId": "06936310910246732638"
     },
     "user_tz": -330
    },
    "id": "tIlyxLEC0o6g",
    "outputId": "a1b67248-770b-4973-8f66-3bade0b1d088"
   },
   "outputs": [
    {
     "data": {
      "text/plain": [
       "<matplotlib.axes._subplots.AxesSubplot at 0x2287054d550>"
      ]
     },
     "execution_count": 13,
     "metadata": {},
     "output_type": "execute_result"
    },
    {
     "data": {
      "image/png": "[encoded data removed]",
      "text/plain": [
       "<Figure size 432x288 with 1 Axes>"
      ]
     },
     "metadata": {
      "needs_background": "light"
     },
     "output_type": "display_data"
    }
   ],
   "source": [
    "sns.countplot(x = 'Response', data = train_data)"
   ]
  },
  {
   "cell_type": "code",
   "execution_count": 14,
   "metadata": {
    "colab": {
     "base_uri": "https://localhost:8080/",
     "height": 67
    },
    "executionInfo": {
     "elapsed": 7474,
     "status": "ok",
     "timestamp": 1603731300858,
     "user": {
      "displayName": "tanvi wagle",
      "photoUrl": "",
      "userId": "06936310910246732638"
     },
     "user_tz": -330
    },
    "id": "oXC6WW040o6n",
    "outputId": "c00e1ee2-b24e-4f7c-ebe1-2d2d736e28f9"
   },
   "outputs": [
    {
     "data": {
      "text/plain": [
       "0    334399\n",
       "1     46710\n",
       "Name: Response, dtype: int64"
      ]
     },
     "execution_count": 14,
     "metadata": {},
     "output_type": "execute_result"
    }
   ],
   "source": [
    "# Check if the data is balanced or not\n",
    "train_data['Response'].value_counts()"
   ]
  },
  {
   "cell_type": "markdown",
   "metadata": {
    "id": "sHN6n87m0o6u"
   },
   "source": [
    "**Inference**: From the above value counts of the column 'Response' it seems that the data is not balanced as 85% of responses are 0 which make it difficult for training model"
   ]
  },
  {
   "cell_type": "code",
   "execution_count": 15,
   "metadata": {
    "executionInfo": {
     "elapsed": 7466,
     "status": "ok",
     "timestamp": 1603731300859,
     "user": {
      "displayName": "tanvi wagle",
      "photoUrl": "",
      "userId": "06936310910246732638"
     },
     "user_tz": -330
    },
    "id": "QV9LvzMu0o6v"
   },
   "outputs": [],
   "source": [
    "#dropping id column from dataset\n",
    "train_data.drop(['id'], axis = 1, inplace = True)"
   ]
  },
  {
   "cell_type": "markdown",
   "metadata": {
    "id": "-2n8vr3W0o65"
   },
   "source": [
    "# Balancing data"
   ]
  },
  {
   "cell_type": "code",
   "execution_count": 16,
   "metadata": {
    "executionInfo": {
     "elapsed": 7459,
     "status": "ok",
     "timestamp": 1603731300860,
     "user": {
      "displayName": "tanvi wagle",
      "photoUrl": "",
      "userId": "06936310910246732638"
     },
     "user_tz": -330
    },
    "id": "74gxwdXZ0o66"
   },
   "outputs": [],
   "source": [
    "train_data = shuffle(train_data, random_state = 10)"
   ]
  },
  {
   "cell_type": "code",
   "execution_count": 17,
   "metadata": {
    "colab": {
     "base_uri": "https://localhost:8080/",
     "height": 215
    },
    "executionInfo": {
     "elapsed": 7439,
     "status": "ok",
     "timestamp": 1603731300860,
     "user": {
      "displayName": "tanvi wagle",
      "photoUrl": "",
      "userId": "06936310910246732638"
     },
     "user_tz": -330
    },
    "id": "67mVHdKf0o7B",
    "outputId": "f0045c0e-9ca4-4c32-ddfd-731da563ee2e"
   },
   "outputs": [
    {
     "data": {
      "text/html": [
       "<div>\n",
       "<style scoped>\n",
       "    .dataframe tbody tr th:only-of-type {\n",
       "        vertical-align: middle;\n",
       "    }\n",
       "\n",
       "    .dataframe tbody tr th {\n",
       "        vertical-align: top;\n",
       "    }\n",
       "\n",
       "    .dataframe thead th {\n",
       "        text-align: right;\n",
       "    }\n",
       "</style>\n",
       "<table border=\"1\" class=\"dataframe\">\n",
       "  <thead>\n",
       "    <tr style=\"text-align: right;\">\n",
       "      <th></th>\n",
       "      <th>Gender</th>\n",
       "      <th>Age</th>\n",
       "      <th>Driving_License</th>\n",
       "      <th>Region_Code</th>\n",
       "      <th>Previously_Insured</th>\n",
       "      <th>Vehicle_Age</th>\n",
       "      <th>Vehicle_Damage</th>\n",
       "      <th>Annual_Premium</th>\n",
       "      <th>Policy_Sales_Channel</th>\n",
       "      <th>Vintage</th>\n",
       "      <th>Response</th>\n",
       "    </tr>\n",
       "  </thead>\n",
       "  <tbody>\n",
       "    <tr>\n",
       "      <th>80516</th>\n",
       "      <td>Male</td>\n",
       "      <td>78</td>\n",
       "      <td>1</td>\n",
       "      <td>50.0</td>\n",
       "      <td>0</td>\n",
       "      <td>1-2 Year</td>\n",
       "      <td>Yes</td>\n",
       "      <td>35661.0</td>\n",
       "      <td>155.0</td>\n",
       "      <td>244</td>\n",
       "      <td>0</td>\n",
       "    </tr>\n",
       "    <tr>\n",
       "      <th>296329</th>\n",
       "      <td>Female</td>\n",
       "      <td>26</td>\n",
       "      <td>1</td>\n",
       "      <td>28.0</td>\n",
       "      <td>0</td>\n",
       "      <td>&lt; 1 Year</td>\n",
       "      <td>Yes</td>\n",
       "      <td>50118.0</td>\n",
       "      <td>26.0</td>\n",
       "      <td>255</td>\n",
       "      <td>1</td>\n",
       "    </tr>\n",
       "    <tr>\n",
       "      <th>300975</th>\n",
       "      <td>Female</td>\n",
       "      <td>20</td>\n",
       "      <td>1</td>\n",
       "      <td>10.0</td>\n",
       "      <td>1</td>\n",
       "      <td>&lt; 1 Year</td>\n",
       "      <td>No</td>\n",
       "      <td>30163.0</td>\n",
       "      <td>160.0</td>\n",
       "      <td>186</td>\n",
       "      <td>0</td>\n",
       "    </tr>\n",
       "    <tr>\n",
       "      <th>316528</th>\n",
       "      <td>Female</td>\n",
       "      <td>23</td>\n",
       "      <td>1</td>\n",
       "      <td>11.0</td>\n",
       "      <td>1</td>\n",
       "      <td>&lt; 1 Year</td>\n",
       "      <td>No</td>\n",
       "      <td>38148.0</td>\n",
       "      <td>152.0</td>\n",
       "      <td>244</td>\n",
       "      <td>0</td>\n",
       "    </tr>\n",
       "    <tr>\n",
       "      <th>48123</th>\n",
       "      <td>Female</td>\n",
       "      <td>24</td>\n",
       "      <td>1</td>\n",
       "      <td>6.0</td>\n",
       "      <td>1</td>\n",
       "      <td>&lt; 1 Year</td>\n",
       "      <td>No</td>\n",
       "      <td>24471.0</td>\n",
       "      <td>152.0</td>\n",
       "      <td>66</td>\n",
       "      <td>0</td>\n",
       "    </tr>\n",
       "  </tbody>\n",
       "</table>\n",
       "</div>"
      ],
      "text/plain": [
       "        Gender  Age  Driving_License  Region_Code  Previously_Insured  \\\n",
       "80516     Male   78                1         50.0                   0   \n",
       "296329  Female   26                1         28.0                   0   \n",
       "300975  Female   20                1         10.0                   1   \n",
       "316528  Female   23                1         11.0                   1   \n",
       "48123   Female   24                1          6.0                   1   \n",
       "\n",
       "       Vehicle_Age Vehicle_Damage  Annual_Premium  Policy_Sales_Channel  \\\n",
       "80516     1-2 Year            Yes         35661.0                 155.0   \n",
       "296329    < 1 Year            Yes         50118.0                  26.0   \n",
       "300975    < 1 Year             No         30163.0                 160.0   \n",
       "316528    < 1 Year             No         38148.0                 152.0   \n",
       "48123     < 1 Year             No         24471.0                 152.0   \n",
       "\n",
       "        Vintage  Response  \n",
       "80516       244         0  \n",
       "296329      255         1  \n",
       "300975      186         0  \n",
       "316528      244         0  \n",
       "48123        66         0  "
      ]
     },
     "execution_count": 17,
     "metadata": {},
     "output_type": "execute_result"
    }
   ],
   "source": [
    "train_data.head()"
   ]
  },
  {
   "cell_type": "code",
   "execution_count": 18,
   "metadata": {
    "executionInfo": {
     "elapsed": 7435,
     "status": "ok",
     "timestamp": 1603731300861,
     "user": {
      "displayName": "tanvi wagle",
      "photoUrl": "",
      "userId": "06936310910246732638"
     },
     "user_tz": -330
    },
    "id": "Fa74CZMK0o7J"
   },
   "outputs": [],
   "source": [
    "grouped = train_data.groupby('Response')"
   ]
  },
  {
   "cell_type": "code",
   "execution_count": 19,
   "metadata": {
    "executionInfo": {
     "elapsed": 7429,
     "status": "ok",
     "timestamp": 1603731300861,
     "user": {
      "displayName": "tanvi wagle",
      "photoUrl": "",
      "userId": "06936310910246732638"
     },
     "user_tz": -330
    },
    "id": "jQbSvLnh0o7N"
   },
   "outputs": [],
   "source": [
    "# count of minimum responses\n",
    "min_count = min(train_data['Response'].value_counts())"
   ]
  },
  {
   "cell_type": "code",
   "execution_count": 20,
   "metadata": {
    "executionInfo": {
     "elapsed": 7418,
     "status": "ok",
     "timestamp": 1603731300862,
     "user": {
      "displayName": "tanvi wagle",
      "photoUrl": "",
      "userId": "06936310910246732638"
     },
     "user_tz": -330
    },
    "id": "FD0CXQ_a0o7S"
   },
   "outputs": [],
   "source": [
    "zero_response = grouped.get_group(0)"
   ]
  },
  {
   "cell_type": "code",
   "execution_count": 21,
   "metadata": {
    "executionInfo": {
     "elapsed": 7409,
     "status": "ok",
     "timestamp": 1603731300862,
     "user": {
      "displayName": "tanvi wagle",
      "photoUrl": "",
      "userId": "06936310910246732638"
     },
     "user_tz": -330
    },
    "id": "fHBa-zak0o7l"
   },
   "outputs": [],
   "source": [
    "one_response = grouped.get_group(1)"
   ]
  },
  {
   "cell_type": "code",
   "execution_count": 22,
   "metadata": {
    "executionInfo": {
     "elapsed": 7403,
     "status": "ok",
     "timestamp": 1603731300863,
     "user": {
      "displayName": "tanvi wagle",
      "photoUrl": "",
      "userId": "06936310910246732638"
     },
     "user_tz": -330
    },
    "id": "RkJvKD_y0o7v"
   },
   "outputs": [],
   "source": [
    "df_final = pd.concat([zero_response.head(min_count), one_response.head(min_count)], sort = False)"
   ]
  },
  {
   "cell_type": "code",
   "execution_count": 23,
   "metadata": {},
   "outputs": [],
   "source": [
    "df_final = shuffle(df_final, random_state = 10)"
   ]
  },
  {
   "cell_type": "code",
   "execution_count": 24,
   "metadata": {
    "colab": {
     "base_uri": "https://localhost:8080/",
     "height": 215
    },
    "executionInfo": {
     "elapsed": 7386,
     "status": "ok",
     "timestamp": 1603731300863,
     "user": {
      "displayName": "tanvi wagle",
      "photoUrl": "",
      "userId": "06936310910246732638"
     },
     "user_tz": -330
    },
    "id": "mgWhtUiK0o72",
    "outputId": "4e3f3a6f-edad-4ecc-a930-25d584d84d30"
   },
   "outputs": [
    {
     "data": {
      "text/html": [
       "<div>\n",
       "<style scoped>\n",
       "    .dataframe tbody tr th:only-of-type {\n",
       "        vertical-align: middle;\n",
       "    }\n",
       "\n",
       "    .dataframe tbody tr th {\n",
       "        vertical-align: top;\n",
       "    }\n",
       "\n",
       "    .dataframe thead th {\n",
       "        text-align: right;\n",
       "    }\n",
       "</style>\n",
       "<table border=\"1\" class=\"dataframe\">\n",
       "  <thead>\n",
       "    <tr style=\"text-align: right;\">\n",
       "      <th></th>\n",
       "      <th>Gender</th>\n",
       "      <th>Age</th>\n",
       "      <th>Driving_License</th>\n",
       "      <th>Region_Code</th>\n",
       "      <th>Previously_Insured</th>\n",
       "      <th>Vehicle_Age</th>\n",
       "      <th>Vehicle_Damage</th>\n",
       "      <th>Annual_Premium</th>\n",
       "      <th>Policy_Sales_Channel</th>\n",
       "      <th>Vintage</th>\n",
       "      <th>Response</th>\n",
       "    </tr>\n",
       "  </thead>\n",
       "  <tbody>\n",
       "    <tr>\n",
       "      <th>18492</th>\n",
       "      <td>Male</td>\n",
       "      <td>26</td>\n",
       "      <td>1</td>\n",
       "      <td>15.0</td>\n",
       "      <td>1</td>\n",
       "      <td>&lt; 1 Year</td>\n",
       "      <td>No</td>\n",
       "      <td>31587.0</td>\n",
       "      <td>152.0</td>\n",
       "      <td>74</td>\n",
       "      <td>0</td>\n",
       "    </tr>\n",
       "    <tr>\n",
       "      <th>308746</th>\n",
       "      <td>Female</td>\n",
       "      <td>55</td>\n",
       "      <td>1</td>\n",
       "      <td>28.0</td>\n",
       "      <td>0</td>\n",
       "      <td>1-2 Year</td>\n",
       "      <td>Yes</td>\n",
       "      <td>28235.0</td>\n",
       "      <td>26.0</td>\n",
       "      <td>53</td>\n",
       "      <td>1</td>\n",
       "    </tr>\n",
       "    <tr>\n",
       "      <th>103418</th>\n",
       "      <td>Female</td>\n",
       "      <td>55</td>\n",
       "      <td>1</td>\n",
       "      <td>20.0</td>\n",
       "      <td>0</td>\n",
       "      <td>1-2 Year</td>\n",
       "      <td>Yes</td>\n",
       "      <td>2630.0</td>\n",
       "      <td>26.0</td>\n",
       "      <td>287</td>\n",
       "      <td>0</td>\n",
       "    </tr>\n",
       "    <tr>\n",
       "      <th>81610</th>\n",
       "      <td>Male</td>\n",
       "      <td>44</td>\n",
       "      <td>1</td>\n",
       "      <td>35.0</td>\n",
       "      <td>0</td>\n",
       "      <td>1-2 Year</td>\n",
       "      <td>Yes</td>\n",
       "      <td>36530.0</td>\n",
       "      <td>124.0</td>\n",
       "      <td>176</td>\n",
       "      <td>1</td>\n",
       "    </tr>\n",
       "    <tr>\n",
       "      <th>256375</th>\n",
       "      <td>Female</td>\n",
       "      <td>25</td>\n",
       "      <td>1</td>\n",
       "      <td>29.0</td>\n",
       "      <td>1</td>\n",
       "      <td>&lt; 1 Year</td>\n",
       "      <td>No</td>\n",
       "      <td>28658.0</td>\n",
       "      <td>152.0</td>\n",
       "      <td>166</td>\n",
       "      <td>0</td>\n",
       "    </tr>\n",
       "  </tbody>\n",
       "</table>\n",
       "</div>"
      ],
      "text/plain": [
       "        Gender  Age  Driving_License  Region_Code  Previously_Insured  \\\n",
       "18492     Male   26                1         15.0                   1   \n",
       "308746  Female   55                1         28.0                   0   \n",
       "103418  Female   55                1         20.0                   0   \n",
       "81610     Male   44                1         35.0                   0   \n",
       "256375  Female   25                1         29.0                   1   \n",
       "\n",
       "       Vehicle_Age Vehicle_Damage  Annual_Premium  Policy_Sales_Channel  \\\n",
       "18492     < 1 Year             No         31587.0                 152.0   \n",
       "308746    1-2 Year            Yes         28235.0                  26.0   \n",
       "103418    1-2 Year            Yes          2630.0                  26.0   \n",
       "81610     1-2 Year            Yes         36530.0                 124.0   \n",
       "256375    < 1 Year             No         28658.0                 152.0   \n",
       "\n",
       "        Vintage  Response  \n",
       "18492        74         0  \n",
       "308746       53         1  \n",
       "103418      287         0  \n",
       "81610       176         1  \n",
       "256375      166         0  "
      ]
     },
     "execution_count": 24,
     "metadata": {},
     "output_type": "execute_result"
    }
   ],
   "source": [
    "df_final.head()"
   ]
  },
  {
   "cell_type": "code",
   "execution_count": 25,
   "metadata": {
    "colab": {
     "base_uri": "https://localhost:8080/",
     "height": 34
    },
    "executionInfo": {
     "elapsed": 7371,
     "status": "ok",
     "timestamp": 1603731300864,
     "user": {
      "displayName": "tanvi wagle",
      "photoUrl": "",
      "userId": "06936310910246732638"
     },
     "user_tz": -330
    },
    "id": "Kl0YWKDG0o8U",
    "outputId": "37ea14ee-ccd3-45af-e04f-9a7c085a17c4"
   },
   "outputs": [
    {
     "data": {
      "text/plain": [
       "(93420, 11)"
      ]
     },
     "execution_count": 25,
     "metadata": {},
     "output_type": "execute_result"
    }
   ],
   "source": [
    "df_final.shape"
   ]
  },
  {
   "cell_type": "code",
   "execution_count": 26,
   "metadata": {
    "executionInfo": {
     "elapsed": 7364,
     "status": "ok",
     "timestamp": 1603731300865,
     "user": {
      "displayName": "tanvi wagle",
      "photoUrl": "",
      "userId": "06936310910246732638"
     },
     "user_tz": -330
    },
    "id": "JYcaP6Mn0o8c"
   },
   "outputs": [],
   "source": [
    "# Label Encoder\n",
    "le = LabelEncoder()"
   ]
  },
  {
   "cell_type": "code",
   "execution_count": 27,
   "metadata": {
    "executionInfo": {
     "elapsed": 7358,
     "status": "ok",
     "timestamp": 1603731300865,
     "user": {
      "displayName": "tanvi wagle",
      "photoUrl": "",
      "userId": "06936310910246732638"
     },
     "user_tz": -330
    },
    "id": "g8S2CczL0o8i"
   },
   "outputs": [],
   "source": [
    "def convert(df):\n",
    "    df['Gender'] = le.fit_transform(df['Gender'])\n",
    "    df['Vehicle_Age'] = le.fit_transform(df['Vehicle_Age'])\n",
    "    df['Vehicle_Damage'] = le.fit_transform(df['Vehicle_Damage'])"
   ]
  },
  {
   "cell_type": "code",
   "execution_count": 28,
   "metadata": {
    "executionInfo": {
     "elapsed": 7354,
     "status": "ok",
     "timestamp": 1603731300866,
     "user": {
      "displayName": "tanvi wagle",
      "photoUrl": "",
      "userId": "06936310910246732638"
     },
     "user_tz": -330
    },
    "id": "3gm-bwsE0o8o"
   },
   "outputs": [],
   "source": [
    "convert(df_final)"
   ]
  },
  {
   "cell_type": "code",
   "execution_count": 29,
   "metadata": {
    "colab": {
     "base_uri": "https://localhost:8080/",
     "height": 215
    },
    "executionInfo": {
     "elapsed": 7705,
     "status": "ok",
     "timestamp": 1603731301232,
     "user": {
      "displayName": "tanvi wagle",
      "photoUrl": "",
      "userId": "06936310910246732638"
     },
     "user_tz": -330
    },
    "id": "rHiLrHmN0o9B",
    "outputId": "1feca8c0-6e14-412e-cd82-1990cdc8d01d"
   },
   "outputs": [
    {
     "data": {
      "text/html": [
       "<div>\n",
       "<style scoped>\n",
       "    .dataframe tbody tr th:only-of-type {\n",
       "        vertical-align: middle;\n",
       "    }\n",
       "\n",
       "    .dataframe tbody tr th {\n",
       "        vertical-align: top;\n",
       "    }\n",
       "\n",
       "    .dataframe thead th {\n",
       "        text-align: right;\n",
       "    }\n",
       "</style>\n",
       "<table border=\"1\" class=\"dataframe\">\n",
       "  <thead>\n",
       "    <tr style=\"text-align: right;\">\n",
       "      <th></th>\n",
       "      <th>Gender</th>\n",
       "      <th>Age</th>\n",
       "      <th>Driving_License</th>\n",
       "      <th>Region_Code</th>\n",
       "      <th>Previously_Insured</th>\n",
       "      <th>Vehicle_Age</th>\n",
       "      <th>Vehicle_Damage</th>\n",
       "      <th>Annual_Premium</th>\n",
       "      <th>Policy_Sales_Channel</th>\n",
       "      <th>Vintage</th>\n",
       "      <th>Response</th>\n",
       "    </tr>\n",
       "  </thead>\n",
       "  <tbody>\n",
       "    <tr>\n",
       "      <th>18492</th>\n",
       "      <td>1</td>\n",
       "      <td>26</td>\n",
       "      <td>1</td>\n",
       "      <td>15.0</td>\n",
       "      <td>1</td>\n",
       "      <td>1</td>\n",
       "      <td>0</td>\n",
       "      <td>31587.0</td>\n",
       "      <td>152.0</td>\n",
       "      <td>74</td>\n",
       "      <td>0</td>\n",
       "    </tr>\n",
       "    <tr>\n",
       "      <th>308746</th>\n",
       "      <td>0</td>\n",
       "      <td>55</td>\n",
       "      <td>1</td>\n",
       "      <td>28.0</td>\n",
       "      <td>0</td>\n",
       "      <td>0</td>\n",
       "      <td>1</td>\n",
       "      <td>28235.0</td>\n",
       "      <td>26.0</td>\n",
       "      <td>53</td>\n",
       "      <td>1</td>\n",
       "    </tr>\n",
       "    <tr>\n",
       "      <th>103418</th>\n",
       "      <td>0</td>\n",
       "      <td>55</td>\n",
       "      <td>1</td>\n",
       "      <td>20.0</td>\n",
       "      <td>0</td>\n",
       "      <td>0</td>\n",
       "      <td>1</td>\n",
       "      <td>2630.0</td>\n",
       "      <td>26.0</td>\n",
       "      <td>287</td>\n",
       "      <td>0</td>\n",
       "    </tr>\n",
       "    <tr>\n",
       "      <th>81610</th>\n",
       "      <td>1</td>\n",
       "      <td>44</td>\n",
       "      <td>1</td>\n",
       "      <td>35.0</td>\n",
       "      <td>0</td>\n",
       "      <td>0</td>\n",
       "      <td>1</td>\n",
       "      <td>36530.0</td>\n",
       "      <td>124.0</td>\n",
       "      <td>176</td>\n",
       "      <td>1</td>\n",
       "    </tr>\n",
       "    <tr>\n",
       "      <th>256375</th>\n",
       "      <td>0</td>\n",
       "      <td>25</td>\n",
       "      <td>1</td>\n",
       "      <td>29.0</td>\n",
       "      <td>1</td>\n",
       "      <td>1</td>\n",
       "      <td>0</td>\n",
       "      <td>28658.0</td>\n",
       "      <td>152.0</td>\n",
       "      <td>166</td>\n",
       "      <td>0</td>\n",
       "    </tr>\n",
       "  </tbody>\n",
       "</table>\n",
       "</div>"
      ],
      "text/plain": [
       "        Gender  Age  Driving_License  Region_Code  Previously_Insured  \\\n",
       "18492        1   26                1         15.0                   1   \n",
       "308746       0   55                1         28.0                   0   \n",
       "103418       0   55                1         20.0                   0   \n",
       "81610        1   44                1         35.0                   0   \n",
       "256375       0   25                1         29.0                   1   \n",
       "\n",
       "        Vehicle_Age  Vehicle_Damage  Annual_Premium  Policy_Sales_Channel  \\\n",
       "18492             1               0         31587.0                 152.0   \n",
       "308746            0               1         28235.0                  26.0   \n",
       "103418            0               1          2630.0                  26.0   \n",
       "81610             0               1         36530.0                 124.0   \n",
       "256375            1               0         28658.0                 152.0   \n",
       "\n",
       "        Vintage  Response  \n",
       "18492        74         0  \n",
       "308746       53         1  \n",
       "103418      287         0  \n",
       "81610       176         1  \n",
       "256375      166         0  "
      ]
     },
     "execution_count": 29,
     "metadata": {},
     "output_type": "execute_result"
    }
   ],
   "source": [
    "df_final.head()"
   ]
  },
  {
   "cell_type": "markdown",
   "metadata": {
    "id": "sYkQUjvw0o9I"
   },
   "source": [
    "# Model"
   ]
  },
  {
   "cell_type": "code",
   "execution_count": 30,
   "metadata": {
    "executionInfo": {
     "elapsed": 7701,
     "status": "ok",
     "timestamp": 1603731301233,
     "user": {
      "displayName": "tanvi wagle",
      "photoUrl": "",
      "userId": "06936310910246732638"
     },
     "user_tz": -330
    },
    "id": "AwK0GSBs0o9J"
   },
   "outputs": [],
   "source": [
    "X = df_final.drop(['Response'], axis = 1)\n",
    "y = df_final['Response']"
   ]
  },
  {
   "cell_type": "code",
   "execution_count": 31,
   "metadata": {
    "executionInfo": {
     "elapsed": 7697,
     "status": "ok",
     "timestamp": 1603731301234,
     "user": {
      "displayName": "tanvi wagle",
      "photoUrl": "",
      "userId": "06936310910246732638"
     },
     "user_tz": -330
    },
    "id": "D3qRZiJ20o9P"
   },
   "outputs": [],
   "source": [
    "X_train, X_test, y_train, y_test = train_test_split(X, y, test_size = 0.3, random_state = 10)"
   ]
  },
  {
   "cell_type": "markdown",
   "metadata": {
    "id": "BRwUnul1GaAj"
   },
   "source": [
    "**Linear Regression**"
   ]
  },
  {
   "cell_type": "code",
   "execution_count": 32,
   "metadata": {
    "executionInfo": {
     "elapsed": 7693,
     "status": "ok",
     "timestamp": 1603731301235,
     "user": {
      "displayName": "tanvi wagle",
      "photoUrl": "",
      "userId": "06936310910246732638"
     },
     "user_tz": -330
    },
    "id": "JWOmRxvZ0o9V"
   },
   "outputs": [],
   "source": [
    "linear = LinearRegression()\n",
    "linear.fit(X_train, y_train)\n",
    "pred_linear = linear.predict(X_test)\n",
    "pred_linear = np.around(pred_linear).astype('int')\n"
   ]
  },
  {
   "cell_type": "markdown",
   "metadata": {
    "id": "-HwY-zL8HHlt"
   },
   "source": [
    "**Logistic Regression**"
   ]
  },
  {
   "cell_type": "code",
   "execution_count": 33,
   "metadata": {
    "executionInfo": {
     "elapsed": 9336,
     "status": "ok",
     "timestamp": 1603731302886,
     "user": {
      "displayName": "tanvi wagle",
      "photoUrl": "",
      "userId": "06936310910246732638"
     },
     "user_tz": -330
    },
    "id": "DJKypUBU0o91"
   },
   "outputs": [
    {
     "name": "stderr",
     "output_type": "stream",
     "text": [
      "C:\\Users\\Wagle\\Anaconda3\\lib\\site-packages\\sklearn\\linear_model\\logistic.py:433: FutureWarning: Default solver will be changed to 'lbfgs' in 0.22. Specify a solver to silence this warning.\n",
      "  FutureWarning)\n"
     ]
    }
   ],
   "source": [
    "logistic = LogisticRegression(max_iter=10000)\n",
    "logistic.fit(X_train, y_train)\n",
    "pred_logistic = logistic.predict(X_test)"
   ]
  },
  {
   "cell_type": "markdown",
   "metadata": {
    "id": "ODScL46uNSIB"
   },
   "source": [
    "**SVM**"
   ]
  },
  {
   "cell_type": "code",
   "execution_count": 34,
   "metadata": {
    "executionInfo": {
     "elapsed": 315298,
     "status": "ok",
     "timestamp": 1603731608858,
     "user": {
      "displayName": "tanvi wagle",
      "photoUrl": "",
      "userId": "06936310910246732638"
     },
     "user_tz": -330
    },
    "id": "dv2QPnGw0o-K"
   },
   "outputs": [
    {
     "name": "stderr",
     "output_type": "stream",
     "text": [
      "C:\\Users\\Wagle\\Anaconda3\\lib\\site-packages\\sklearn\\svm\\base.py:196: FutureWarning: The default value of gamma will change from 'auto' to 'scale' in version 0.22 to account better for unscaled features. Set gamma explicitly to 'auto' or 'scale' to avoid this warning.\n",
      "  \"avoid this warning.\", FutureWarning)\n"
     ]
    }
   ],
   "source": [
    "svc = SVC()\n",
    "svc.fit(X_train, y_train)\n",
    "pred_svm = svc.predict(X_test)"
   ]
  },
  {
   "cell_type": "markdown",
   "metadata": {
    "id": "EDNzAwyKOA6t"
   },
   "source": [
    "**Lasso**"
   ]
  },
  {
   "cell_type": "code",
   "execution_count": 35,
   "metadata": {
    "executionInfo": {
     "elapsed": 315291,
     "status": "ok",
     "timestamp": 1603731608860,
     "user": {
      "displayName": "tanvi wagle",
      "photoUrl": "",
      "userId": "06936310910246732638"
     },
     "user_tz": -330
    },
    "id": "AMIOTxez0o-o"
   },
   "outputs": [],
   "source": [
    "lasso = Lasso()\n",
    "lasso.fit(X_train, y_train)\n",
    "pred_lasso = lasso.predict(X_test)\n",
    "pred_lasso = np.around(pred_lasso).astype('int')"
   ]
  },
  {
   "cell_type": "markdown",
   "metadata": {
    "id": "L7lVmcOUODyV"
   },
   "source": [
    "**Ridge**"
   ]
  },
  {
   "cell_type": "code",
   "execution_count": 36,
   "metadata": {
    "executionInfo": {
     "elapsed": 315287,
     "status": "ok",
     "timestamp": 1603731608861,
     "user": {
      "displayName": "tanvi wagle",
      "photoUrl": "",
      "userId": "06936310910246732638"
     },
     "user_tz": -330
    },
    "id": "79Ct-XKc0o-x"
   },
   "outputs": [],
   "source": [
    "ridge = Ridge()\n",
    "ridge.fit(X_train, y_train)\n",
    "pred_ridge = ridge.predict(X_test)\n",
    "pred_ridge = np.around(pred_ridge).astype('int')"
   ]
  },
  {
   "cell_type": "markdown",
   "metadata": {
    "id": "RU78DN4iOGB6"
   },
   "source": [
    "**Decision Tree**"
   ]
  },
  {
   "cell_type": "code",
   "execution_count": 37,
   "metadata": {
    "executionInfo": {
     "elapsed": 315870,
     "status": "ok",
     "timestamp": 1603731609449,
     "user": {
      "displayName": "tanvi wagle",
      "photoUrl": "",
      "userId": "06936310910246732638"
     },
     "user_tz": -330
    },
    "id": "_ObUzhuZ0o-8"
   },
   "outputs": [],
   "source": [
    "dt_clf = DecisionTreeClassifier()\n",
    "dt_clf.fit(X_train, y_train)\n",
    "pred_dt_clf = dt_clf.predict(X_test)"
   ]
  },
  {
   "cell_type": "markdown",
   "metadata": {
    "id": "RCUd2de1OSV8"
   },
   "source": [
    "**Bagging**"
   ]
  },
  {
   "cell_type": "code",
   "execution_count": 38,
   "metadata": {
    "executionInfo": {
     "elapsed": 317015,
     "status": "ok",
     "timestamp": 1603731610600,
     "user": {
      "displayName": "tanvi wagle",
      "photoUrl": "",
      "userId": "06936310910246732638"
     },
     "user_tz": -330
    },
    "id": "Yf8lIU2o0o_M"
   },
   "outputs": [],
   "source": [
    "b_clf = BaggingClassifier(DecisionTreeClassifier(), n_estimators = 100, max_samples = 100, random_state = 0)\n",
    "b_clf.fit(X_train, y_train)\n",
    "pred_b_clf = b_clf.predict(X_test)"
   ]
  },
  {
   "cell_type": "markdown",
   "metadata": {
    "id": "laropc0yOe-K"
   },
   "source": [
    "**Random Forest**"
   ]
  },
  {
   "cell_type": "code",
   "execution_count": 39,
   "metadata": {
    "executionInfo": {
     "elapsed": 322688,
     "status": "ok",
     "timestamp": 1603731616278,
     "user": {
      "displayName": "tanvi wagle",
      "photoUrl": "",
      "userId": "06936310910246732638"
     },
     "user_tz": -330
    },
    "id": "0ap87sTt0o_b"
   },
   "outputs": [],
   "source": [
    "rf_clf = RandomForestClassifier(n_estimators = 100, min_samples_leaf = 100, n_jobs = 100, random_state = 0)\n",
    "rf_clf.fit(X_train, y_train)\n",
    "pred_rf_clf = rf_clf.predict(X_test)"
   ]
  },
  {
   "cell_type": "markdown",
   "metadata": {
    "id": "z1bJfYL8wW98"
   },
   "source": [
    "\n",
    "# **Scores**"
   ]
  },
  {
   "cell_type": "code",
   "execution_count": 40,
   "metadata": {
    "executionInfo": {
     "elapsed": 322685,
     "status": "ok",
     "timestamp": 1603731616280,
     "user": {
      "displayName": "tanvi wagle",
      "photoUrl": "",
      "userId": "06936310910246732638"
     },
     "user_tz": -330
    },
    "id": "QUSo2RacVdyB"
   },
   "outputs": [],
   "source": [
    "model_list = ['Linear Regression', 'Logistic Regression', 'SVM', 'Lasso', 'Ridge', 'Decision Tree', 'Bagging', 'Random Forest']\n",
    "prediction_list = [pred_linear, pred_logistic, pred_svm, pred_lasso, pred_ridge, pred_dt_clf, pred_b_clf, pred_rf_clf]"
   ]
  },
  {
   "cell_type": "code",
   "execution_count": 41,
   "metadata": {
    "executionInfo": {
     "elapsed": 322681,
     "status": "ok",
     "timestamp": 1603731616281,
     "user": {
      "displayName": "tanvi wagle",
      "photoUrl": "",
      "userId": "06936310910246732638"
     },
     "user_tz": -330
    },
    "id": "NhDGz5oCWSWd"
   },
   "outputs": [],
   "source": [
    "dc = dict()\n",
    "for pred, model in zip(prediction_list, model_list):\n",
    "  precision, recall, f1, _ = precision_recall_fscore_support(y_test, pred, average='macro')\n",
    "  dc[model] = {'Accuracy':np.around(accuracy_score(y_test, pred), decimals = 3), \n",
    "               'Precision': np.around(precision, decimals = 3), \n",
    "               'Recall': np.around(recall, decimals = 3), \n",
    "               'F1- score': np.around(f1, decimals = 3), \n",
    "               'ROC AUC Score': np.around(roc_auc_score(y_test, pred), decimals = 3),\n",
    "               'RMSE': np.around(np.sqrt(mean_squared_error(y_test, pred)), decimals = 3)\n",
    "               }"
   ]
  },
  {
   "cell_type": "code",
   "execution_count": 42,
   "metadata": {
    "colab": {
     "base_uri": "https://localhost:8080/",
     "height": 225
    },
    "executionInfo": {
     "elapsed": 322677,
     "status": "ok",
     "timestamp": 1603731616281,
     "user": {
      "displayName": "tanvi wagle",
      "photoUrl": "",
      "userId": "06936310910246732638"
     },
     "user_tz": -330
    },
    "id": "iTg5dW4mkSrK",
    "outputId": "5d1d9440-f16d-4d3d-d8bc-f45c4b5e6e56"
   },
   "outputs": [
    {
     "data": {
      "text/html": [
       "<div>\n",
       "<style scoped>\n",
       "    .dataframe tbody tr th:only-of-type {\n",
       "        vertical-align: middle;\n",
       "    }\n",
       "\n",
       "    .dataframe tbody tr th {\n",
       "        vertical-align: top;\n",
       "    }\n",
       "\n",
       "    .dataframe thead th {\n",
       "        text-align: right;\n",
       "    }\n",
       "</style>\n",
       "<table border=\"1\" class=\"dataframe\">\n",
       "  <thead>\n",
       "    <tr style=\"text-align: right;\">\n",
       "      <th></th>\n",
       "      <th>Linear Regression</th>\n",
       "      <th>Logistic Regression</th>\n",
       "      <th>SVM</th>\n",
       "      <th>Lasso</th>\n",
       "      <th>Ridge</th>\n",
       "      <th>Decision Tree</th>\n",
       "      <th>Bagging</th>\n",
       "      <th>Random Forest</th>\n",
       "    </tr>\n",
       "  </thead>\n",
       "  <tbody>\n",
       "    <tr>\n",
       "      <th>Accuracy</th>\n",
       "      <td>0.783</td>\n",
       "      <td>0.782</td>\n",
       "      <td>0.520</td>\n",
       "      <td>0.580</td>\n",
       "      <td>0.783</td>\n",
       "      <td>0.715</td>\n",
       "      <td>0.789</td>\n",
       "      <td>0.796</td>\n",
       "    </tr>\n",
       "    <tr>\n",
       "      <th>F1- score</th>\n",
       "      <td>0.774</td>\n",
       "      <td>0.774</td>\n",
       "      <td>0.424</td>\n",
       "      <td>0.566</td>\n",
       "      <td>0.774</td>\n",
       "      <td>0.715</td>\n",
       "      <td>0.785</td>\n",
       "      <td>0.792</td>\n",
       "    </tr>\n",
       "    <tr>\n",
       "      <th>Precision</th>\n",
       "      <td>0.833</td>\n",
       "      <td>0.834</td>\n",
       "      <td>0.554</td>\n",
       "      <td>0.590</td>\n",
       "      <td>0.833</td>\n",
       "      <td>0.715</td>\n",
       "      <td>0.816</td>\n",
       "      <td>0.822</td>\n",
       "    </tr>\n",
       "    <tr>\n",
       "      <th>RMSE</th>\n",
       "      <td>0.466</td>\n",
       "      <td>0.467</td>\n",
       "      <td>0.693</td>\n",
       "      <td>0.648</td>\n",
       "      <td>0.466</td>\n",
       "      <td>0.534</td>\n",
       "      <td>0.459</td>\n",
       "      <td>0.452</td>\n",
       "    </tr>\n",
       "    <tr>\n",
       "      <th>ROC AUC Score</th>\n",
       "      <td>0.783</td>\n",
       "      <td>0.783</td>\n",
       "      <td>0.518</td>\n",
       "      <td>0.579</td>\n",
       "      <td>0.783</td>\n",
       "      <td>0.715</td>\n",
       "      <td>0.790</td>\n",
       "      <td>0.796</td>\n",
       "    </tr>\n",
       "    <tr>\n",
       "      <th>Recall</th>\n",
       "      <td>0.783</td>\n",
       "      <td>0.783</td>\n",
       "      <td>0.518</td>\n",
       "      <td>0.579</td>\n",
       "      <td>0.783</td>\n",
       "      <td>0.715</td>\n",
       "      <td>0.790</td>\n",
       "      <td>0.796</td>\n",
       "    </tr>\n",
       "  </tbody>\n",
       "</table>\n",
       "</div>"
      ],
      "text/plain": [
       "               Linear Regression  Logistic Regression    SVM  Lasso  Ridge  \\\n",
       "Accuracy                   0.783                0.782  0.520  0.580  0.783   \n",
       "F1- score                  0.774                0.774  0.424  0.566  0.774   \n",
       "Precision                  0.833                0.834  0.554  0.590  0.833   \n",
       "RMSE                       0.466                0.467  0.693  0.648  0.466   \n",
       "ROC AUC Score              0.783                0.783  0.518  0.579  0.783   \n",
       "Recall                     0.783                0.783  0.518  0.579  0.783   \n",
       "\n",
       "               Decision Tree  Bagging  Random Forest  \n",
       "Accuracy               0.715    0.789          0.796  \n",
       "F1- score              0.715    0.785          0.792  \n",
       "Precision              0.715    0.816          0.822  \n",
       "RMSE                   0.534    0.459          0.452  \n",
       "ROC AUC Score          0.715    0.790          0.796  \n",
       "Recall                 0.715    0.790          0.796  "
      ]
     },
     "execution_count": 42,
     "metadata": {},
     "output_type": "execute_result"
    }
   ],
   "source": [
    "pd.DataFrame(dc)"
   ]
  },
  {
   "cell_type": "markdown",
   "metadata": {
    "id": "65PYkOIsRJxD"
   },
   "source": [
    "<b>Inference : Random forest gives highest accuracy and least error of all models. It would be efficient to use Random forest algorithm.</b>\n"
   ]
  }
 ],
 "metadata": {
  "colab": {
   "collapsed_sections": [],
   "name": "Assignment 2 final.ipynb",
   "provenance": [],
   "toc_visible": true
  },
  "kernelspec": {
   "display_name": "Python 3",
   "language": "python",
   "name": "python3"
  },
  "language_info": {
   "codemirror_mode": {
    "name": "ipython",
    "version": 3
   },
   "file_extension": ".py",
   "mimetype": "text/x-python",
   "name": "python",
   "nbconvert_exporter": "python",
   "pygments_lexer": "ipython3",
   "version": "3.7.3"
  }
 },
 "nbformat": 4,
 "nbformat_minor": 1
}
